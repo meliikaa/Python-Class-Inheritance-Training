{
  "nbformat": 4,
  "nbformat_minor": 0,
  "metadata": {
    "colab": {
      "provenance": []
    },
    "kernelspec": {
      "name": "python3",
      "display_name": "Python 3"
    },
    "language_info": {
      "name": "python"
    }
  },
  "cells": [
    {
      "cell_type": "code",
      "execution_count": null,
      "metadata": {
        "id": "3cx0Wn-avo-G"
      },
      "outputs": [],
      "source": [
        "class Point:\n",
        "    \"\"\" Point class for representing and manipulating x,y coordinates. \"\"\"\n",
        "\n",
        "    def __init__(self):\n",
        "\n",
        "        self.x = 0\n",
        "        self.y = 0\n",
        "\n",
        "p = Point()         # Instantiate an object of type Point\n",
        "q = Point()         # and make a second point\n",
        "\n",
        "print(\"Nothing seems to have happened with the points\")"
      ]
    },
    {
      "cell_type": "code",
      "source": [
        "class Point:\n",
        "    \"\"\" Point class for representing and manipulating x,y coordinates. \"\"\"\n",
        "\n",
        "    def __init__(self):\n",
        "\n",
        "        self.x = 0\n",
        "        self.y = 0\n",
        "\n",
        "p = Point()         # Instantiate an object of type Point\n",
        "q = Point()         # and make a second point\n",
        "\n",
        "print(p)\n",
        "print(q)\n",
        "\n",
        "print(p is q)"
      ],
      "metadata": {
        "id": "_zDd6_78v1xF"
      },
      "execution_count": null,
      "outputs": []
    },
    {
      "cell_type": "code",
      "source": [
        "class Point:\n",
        "    \"\"\" Point class for representing and manipulating x,y coordinates. \"\"\"\n",
        "\n",
        "    def __init__(self, initX, initY):\n",
        "\n",
        "        self.x = initX\n",
        "        self.y = initY\n",
        "\n",
        "p = Point(7,6)"
      ],
      "metadata": {
        "id": "qTg8KdTNv5-E"
      },
      "execution_count": null,
      "outputs": []
    },
    {
      "cell_type": "markdown",
      "source": [
        "Create a class called NumberSet that accepts 2 integers as input, and defines two instance variables: num1 and num2, which hold each of the input integers. Then, create an instance of NumberSet where its num1 is 6 and its num2 is 10. Save this instance to a variable t."
      ],
      "metadata": {
        "id": "BdypK5vlwqqZ"
      }
    },
    {
      "cell_type": "code",
      "source": [
        "class NumberSet:\n",
        "    def __init__(self, num1, num2):\n",
        "        self.num1 = num1\n",
        "        self.num2 = num2\n",
        "\n",
        "# Create an instance of NumberSet with num1 as 6 and num2 as 10\n",
        "t = NumberSet(6, 10)\n",
        ""
      ],
      "metadata": {
        "id": "OLoyH-cfwrVo"
      },
      "execution_count": null,
      "outputs": []
    },
    {
      "cell_type": "code",
      "source": [
        "class Point:\n",
        "    \"\"\" Point class for representing and manipulating x,y coordinates. \"\"\"\n",
        "\n",
        "    def __init__(self, initX, initY):\n",
        "\n",
        "        self.x = initX\n",
        "        self.y = initY\n",
        "\n",
        "    def getX(self):\n",
        "        return self.x\n",
        "\n",
        "    def getY(self):\n",
        "        return self.y\n"
      ],
      "metadata": {
        "id": "wKWzBsaLwyW3"
      },
      "execution_count": null,
      "outputs": []
    },
    {
      "cell_type": "code",
      "source": [
        "class Point:\n",
        "    \"\"\" Point class for representing and manipulating x,y coordinates. \"\"\"\n",
        "\n",
        "    def __init__(self, initX, initY):\n",
        "\n",
        "        self.x = initX\n",
        "        self.y = initY\n",
        "\n",
        "    def getX(self):\n",
        "        return self.x\n",
        "\n",
        "    def getY(self):\n",
        "        return self.y\n",
        "\n",
        "    def distanceFromOrigin(self):\n",
        "        return ((self.x ** 2) + (self.y ** 2)) ** 0.5\n",
        "\n",
        "\n",
        "p = Point(7,6)\n",
        "print(p.distanceFromOrigin())"
      ],
      "metadata": {
        "id": "7EB6zzr2zR6N"
      },
      "execution_count": null,
      "outputs": []
    },
    {
      "cell_type": "code",
      "source": [
        "class Point:\n",
        "    \"\"\" Point class for representing and manipulating x,y coordinates. \"\"\"\n",
        "\n",
        "    def __init__(self, initX, initY):\n",
        "\n",
        "        self.x = initX\n",
        "        self.y = initY\n",
        "\n",
        "    def getX(self):\n",
        "        return self.x\n",
        "\n",
        "    def getY(self):\n",
        "        return self.y\n",
        "\n",
        "    def distanceFromOrigin(self):\n",
        "        return ((self.x ** 2) + (self.y ** 2)) ** 0.5\n",
        "\n",
        "def distance(point1, point2):\n",
        "    xdiff = point2.getX()-point1.getX()\n",
        "    ydiff = point2.getY()-point1.getY()\n",
        "\n",
        "    dist = math.sqrt(xdiff**2 + ydiff**2)\n",
        "    return dist\n",
        "\n",
        "p = Point(4,3)\n",
        "q = Point(0,0)\n",
        "print(distance(p,q))"
      ],
      "metadata": {
        "id": "5yoncGx74oxI"
      },
      "execution_count": null,
      "outputs": []
    },
    {
      "cell_type": "code",
      "source": [
        "import math\n",
        "\n",
        "class Point:\n",
        "    \"\"\" Point class for representing and manipulating x,y coordinates. \"\"\"\n",
        "\n",
        "    def __init__(self, initX, initY):\n",
        "\n",
        "        self.x = initX\n",
        "        self.y = initY\n",
        "\n",
        "    def getX(self):\n",
        "        return self.x\n",
        "\n",
        "    def getY(self):\n",
        "        return self.y\n",
        "\n",
        "    def distanceFromOrigin(self):\n",
        "        return ((self.x ** 2) + (self.y ** 2)) ** 0.5\n",
        "\n",
        "    def distance(self, point2):\n",
        "        xdiff = point2.getX()-self.getX()\n",
        "        ydiff = point2.getY()-self.getY()\n",
        "\n",
        "        dist = math.sqrt(xdiff**2 + ydiff**2)\n",
        "        return dist\n",
        "\n",
        "p = Point(4,3)\n",
        "q = Point(0,0)\n",
        "print(p.distance(q))"
      ],
      "metadata": {
        "id": "9PWX88VS4qfQ"
      },
      "execution_count": null,
      "outputs": []
    },
    {
      "cell_type": "code",
      "source": [
        "class Point:\n",
        "    \"\"\" Point class for representing and manipulating x,y coordinates. \"\"\"\n",
        "\n",
        "    def __init__(self, initX, initY):\n",
        "\n",
        "        self.x = initX\n",
        "        self.y = initY\n",
        "\n",
        "    def getX(self):\n",
        "        return self.x\n",
        "\n",
        "    def getY(self):\n",
        "        return self.y\n",
        "\n",
        "    def distanceFromOrigin(self):\n",
        "        return ((self.x ** 2) + (self.y ** 2)) ** 0.5\n",
        "\n",
        "    def __str__(self):\n",
        "        return \"x = {}, y = {}\".format(self.x, self.y)\n",
        "\n",
        "p = Point(7,6)\n",
        "print(p)\n"
      ],
      "metadata": {
        "id": "WjYLDNXiA6rT"
      },
      "execution_count": null,
      "outputs": []
    },
    {
      "cell_type": "markdown",
      "source": [
        "Create a class called Cereal that accepts three inputs: 2 strings and 1 integer, and assigns them to 3 instance variables in the constructor: name, brand, and fiber. When an instance of Cereal is printed, the user should see the following: “[name] cereal is produced by [brand] and has [fiber integer] grams of fiber in every serving!” To the variable name c1, assign an instance of Cereal whose name is \"Corn Flakes\", brand is \"Kellogg's\", and fiber is 2. To the variable name c2, assign an instance of Cereal whose name is \"Honey Nut Cheerios\", brand is \"General Mills\", and fiber is 3. Practice printing both!"
      ],
      "metadata": {
        "id": "FwCFDxRSSNR5"
      }
    },
    {
      "cell_type": "code",
      "source": [
        "class Cereal:\n",
        "    def __init__(self, name, brand, fiber):\n",
        "        self.name = name\n",
        "        self.brand = brand\n",
        "        self.fiber = fiber\n",
        "    def __str__(self):\n",
        "        return(\"{} cereal is produced by {} and has {} grams of fiber in every serving!\".format(self.name,self.brand,self.fiber))\n",
        "c1 = Cereal(\"Corn Flakes\", \"Kellogg's\", 2)"
      ],
      "metadata": {
        "id": "gPVi94KbSPfL"
      },
      "execution_count": null,
      "outputs": []
    },
    {
      "cell_type": "code",
      "source": [
        "class Point:\n",
        "\n",
        "    def __init__(self, initX, initY):\n",
        "\n",
        "        self.x = initX\n",
        "        self.y = initY\n",
        "\n",
        "    def getX(self):\n",
        "        return self.x\n",
        "\n",
        "    def getY(self):\n",
        "        return self.y\n",
        "\n",
        "    def distanceFromOrigin(self):\n",
        "        return ((self.x ** 2) + (self.y ** 2)) ** 0.5\n",
        "\n",
        "    def __str__(self):\n",
        "        return \"x = {}, y = {}\".format(self.x, self.y)\n",
        "\n",
        "    def halfway(self, target):\n",
        "        mx = (self.x + target.x)/2\n",
        "        my = (self.y + target.y)/2\n",
        "        return Point(mx, my)\n",
        "\n",
        "p = Point(3,4)\n",
        "q = Point(5,12)\n",
        "# P will be considered as self and q will be considered as target we want the middle so x will be added together and y together as well.\n",
        "mid = p.halfway(q)\n",
        "# note that you would have exactly the same result if you instead wrote\n",
        "# mid = q.halfway(p)\n",
        "# because they are both Point objects, and the middle is the same no matter what\n",
        "\n",
        "print(mid)\n",
        "print(mid.getX())\n",
        "print(mid.getY())"
      ],
      "metadata": {
        "id": "vjtZl3rJSZne"
      },
      "execution_count": null,
      "outputs": []
    },
    {
      "cell_type": "code",
      "source": [
        "L = [\"Cherry\", \"Apple\", \"Blueberry\"]\n",
        "\n",
        "print(sorted(L, key=len))\n",
        "#alternative form using lambda, if you find that easier to understand\n",
        "print(sorted(L, key= lambda x: len(x)))\n"
      ],
      "metadata": {
        "id": "UQCWyWgvepXe"
      },
      "execution_count": null,
      "outputs": []
    },
    {
      "cell_type": "code",
      "source": [
        "class Fruit():\n",
        "    def __init__(self, name, price):\n",
        "        self.name = name\n",
        "        self.price = price\n",
        "\n",
        "L = [Fruit(\"Cherry\", 10), Fruit(\"Apple\", 5), Fruit(\"Blueberry\", 20)]\n",
        "for f in sorted(L, key=lambda x: x.price):\n",
        "    print(f.name)\n"
      ],
      "metadata": {
        "id": "VA7jgLoiesRA"
      },
      "execution_count": null,
      "outputs": []
    },
    {
      "cell_type": "code",
      "source": [
        "class Fruit():\n",
        "    def __init__(self, name, price):\n",
        "        self.name = name\n",
        "        self.price = price\n",
        "\n",
        "    def sort_priority(self):\n",
        "        return self.price\n",
        "\n",
        "L = [Fruit(\"Cherry\", 10), Fruit(\"Apple\", 5), Fruit(\"Blueberry\", 20)]\n",
        "print(\"-----sorted by price, referencing a class method-----\")\n",
        "for f in sorted(L, key=Fruit.sort_priority):\n",
        "    print(f.name)\n",
        "\n",
        "print(\"---- one more way to do the same thing-----\")\n",
        "for f in sorted(L, key=lambda x: x.sort_priority()):"
      ],
      "metadata": {
        "id": "A4rsEOEueyzA"
      },
      "execution_count": null,
      "outputs": []
    },
    {
      "cell_type": "code",
      "source": [
        "class Point:\n",
        "    \"\"\" Point class for representing and manipulating x,y coordinates. \"\"\"\n",
        "\n",
        "    printed_rep = \"*\"\n",
        "\n",
        "    def __init__(self, initX, initY):\n",
        "\n",
        "        self.x = initX\n",
        "        self.y = initY\n",
        "\n",
        "    def graph(self):\n",
        "        rows = []\n",
        "        size = max(int(self.x), int(self.y)) + 2\n",
        "        for j in range(size-1) :\n",
        "            if (j+1) == int(self.y):\n",
        "                special_row = str((j+1) % 10) + (\" \"*(int(self.x) -1)) + self.printed_rep\n",
        "                rows.append(special_row)\n",
        "            else:\n",
        "                rows.append(str((j+1) % 10))\n",
        "        rows.reverse()  # put higher values of y first\n",
        "        x_axis = \"\"\n",
        "        for i in range(size):\n",
        "            x_axis += str(i % 10)\n",
        "        rows.append(x_axis)\n",
        "\n",
        "        return \"\\n\".join(rows)\n",
        "\n",
        "\n",
        "p1 = Point(2, 3)\n",
        "p2 = Point(3, 12)\n",
        "print(p1.graph())\n",
        "print()\n",
        "print(p2.graph())\n"
      ],
      "metadata": {
        "id": "2wvWoTSme2qK"
      },
      "execution_count": null,
      "outputs": []
    },
    {
      "cell_type": "code",
      "source": [
        "from random import randrange\n",
        "\n",
        "class Pet():\n",
        "    boredom_decrement = 4\n",
        "    hunger_decrement = 6\n",
        "    boredom_threshold = 5\n",
        "    hunger_threshold = 10\n",
        "    sounds = ['Mrrp']\n",
        "    def __init__(self, name = \"Kitty\"):\n",
        "        self.name = name\n",
        "        self.hunger = randrange(self.hunger_threshold)\n",
        "        self.boredom = randrange(self.boredom_threshold)\n",
        "        self.sounds = self.sounds[:]  # copy the class attribute, so that when we make changes to it, we won't affect the other Pets in the class\n",
        "\n",
        "    def clock_tick(self):\n",
        "        self.boredom += 1\n",
        "        self.hunger += 1\n",
        "\n",
        "    def mood(self):\n",
        "        if self.hunger <= self.hunger_threshold and self.boredom <= self.boredom_threshold:\n",
        "            return \"happy\"\n",
        "        elif self.hunger > self.hunger_threshold:\n",
        "            return \"hungry\"\n",
        "        else:\n",
        "            return \"bored\"\n",
        "\n",
        "    def __str__(self):\n",
        "        state = \"     I'm \" + self.name + \". \"\n",
        "        state += \" I feel \" + self.mood() + \". \"\n",
        "        # state += \"Hunger {} Boredom {} Words {}\".format(self.hunger, self.boredom, self.sounds)\n",
        "        return state\n",
        "\n",
        "    def hi(self):\n",
        "        print(self.sounds[randrange(len(self.sounds))])\n",
        "        self.reduce_boredom()\n",
        "\n",
        "    def teach(self, word):\n",
        "        self.sounds.append(word)\n",
        "        self.reduce_boredom()\n",
        "\n",
        "    def feed(self):\n",
        "        self.reduce_hunger()\n",
        "\n",
        "    def reduce_hunger(self):\n",
        "        self.hunger = max(0, self.hunger - self.hunger_decrement)\n",
        "\n",
        "    def reduce_boredom(self):\n",
        "        self.boredom = max(0, self.boredom - self.boredom_decrement)\n"
      ],
      "metadata": {
        "id": "PQkWouWRgB-9"
      },
      "execution_count": null,
      "outputs": []
    },
    {
      "cell_type": "code",
      "source": [
        "p1 = Pet(\"Fido\")\n",
        "print(p1)\n",
        "for i in range(10):\n",
        "    p1.clock_tick()\n",
        "    print(p1)\n",
        "p1.feed()\n",
        "p1.hi()\n",
        "p1.teach(\"Boo\")\n",
        "for i in range(10):\n",
        "    p1.hi()\n",
        "print(p1)\n"
      ],
      "metadata": {
        "id": "2h3eM-93ie0M"
      },
      "execution_count": null,
      "outputs": []
    },
    {
      "cell_type": "code",
      "source": [
        "import sys\n",
        "sys.setExecutionLimit(60000)\n",
        "\n",
        "def whichone(petlist, name):\n",
        "    for pet in petlist:\n",
        "        if pet.name == name:\n",
        "            return pet\n",
        "    return None # no pet matched\n",
        "\n",
        "def play():\n",
        "    animals = []\n",
        "\n",
        "    option = \"\"\n",
        "    base_prompt = \"\"\"\n",
        "        Quit\n",
        "        Adopt <petname_with_no_spaces_please>\n",
        "        Greet <petname>\n",
        "        Teach <petname> <word>\n",
        "        Feed <petname>\n",
        "\n",
        "        Choice: \"\"\"\n",
        "    feedback = \"\"\n",
        "    while True:\n",
        "        action = input(feedback + \"\\n\" + base_prompt)\n",
        "        feedback = \"\"\n",
        "        words = action.split()\n",
        "        if len(words) > 0:\n",
        "            command = words[0]\n",
        "        else:\n",
        "            command = None\n",
        "        if command == \"Quit\":\n",
        "            print(\"Exiting...\")\n",
        "            return\n",
        "        elif command == \"Adopt\" and len(words) > 1:\n",
        "            if whichone(animals, words[1]):\n",
        "                feedback += \"You already have a pet with that name\\n\"\n",
        "            else:\n",
        "                animals.append(Pet(words[1]))\n",
        "        elif command == \"Greet\" and len(words) > 1:\n",
        "            pet = whichone(animals, words[1])\n",
        "            if not pet:\n",
        "                feedback += \"I didn't recognize that pet name. Please try again.\\n\"\n",
        "                print()\n",
        "            else:\n",
        "                pet.hi()\n",
        "        elif command == \"Teach\" and len(words) > 2:\n",
        "            pet = whichone(animals, words[1])\n",
        "            if not pet:\n",
        "                feedback += \"I didn't recognize that pet name. Please try again.\"\n",
        "            else:\n",
        "                pet.teach(words[2])\n",
        "        elif command == \"Feed\" and len(words) > 1:\n",
        "            pet = whichone(animals, words[1])\n",
        "            if not pet:\n",
        "                feedback += \"I didn't recognize that pet name. Please try again.\"\n",
        "            else:\n",
        "                pet.feed()\n",
        "        else:\n",
        "            feedback+= \"I didn't understand that. Please try again.\"\n",
        "\n",
        "        for pet in animals:\n",
        "            pet.clock_tick()\n",
        "            feedback += \"\\n\" + pet.__str__()\n",
        "\n",
        "\n",
        "\n",
        "play()"
      ],
      "metadata": {
        "id": "kPPTfev_i8sF"
      },
      "execution_count": null,
      "outputs": []
    },
    {
      "cell_type": "markdown",
      "source": [
        "Define a class called Bike that accepts a string and a float as input, and assigns those inputs respectively to two instance variables, color and price. Assign to the variable testOne an instance of Bike whose color is blue and whose price is 89.99. Assign to the variable testTwo an instance of Bike whose color is purple and whose price is 25.0."
      ],
      "metadata": {
        "id": "K3RaKv9elVE2"
      }
    },
    {
      "cell_type": "code",
      "source": [
        "class Bike:\n",
        "    def __init__(self, color, price):\n",
        "        self.color = color\n",
        "        self.price = price\n",
        "\n",
        "testOne = Bike(\"blue\", 89.99)\n",
        "testTwo = Bike(\"purple\", 25.0)"
      ],
      "metadata": {
        "id": "VkieUp3wlVSC"
      },
      "execution_count": null,
      "outputs": []
    },
    {
      "cell_type": "markdown",
      "source": [
        "Create a class called AppleBasket whose constructor accepts two inputs: a string representing a color, and a number representing a quantity of apples. The constructor should initialize two instance variables: apple_color and apple_quantity. Write a class method called increase that increases the quantity by 1 each time it is invoked. You should also write a __str__ method for this class that returns a string of the format: \"A basket of [quantity goes here] [color goes here] apples.\" e.g. \"A basket of 4 red apples.\" or \"A basket of 50 blue apples.\" (Writing some test code that creates instances and assigns values to variables may help you solve this problem!)"
      ],
      "metadata": {
        "id": "jPi0e-_olYjq"
      }
    },
    {
      "cell_type": "code",
      "source": [
        "class AppleBasket:\n",
        "    def __init__(self, color, quantity):\n",
        "        self.apple_color = color\n",
        "        self.apple_quantity = quantity\n",
        "\n",
        "    def increase(self):\n",
        "        self.apple_quantity += 1\n",
        "\n",
        "    def __str__(self):\n",
        "        return \"A basket of {} {} apples.\".format(self.apple_quantity, self.apple_color)\n"
      ],
      "metadata": {
        "id": "7VQtO7krlacB"
      },
      "execution_count": null,
      "outputs": []
    },
    {
      "cell_type": "markdown",
      "source": [
        "Define a class called BankAccount that accepts the name you want associated with your bank account in a string, and an integer that represents the amount of money in the account. The constructor should initialize two instance variables from those inputs: name and amt. Add a string method so that when you print an instance of BankAccount, you see \"Your account, [name goes here], has [start_amt goes here] dollars.\" Create an instance of this class with \"Bob\" as the name and 100 as the amount. Save this to the variable t1."
      ],
      "metadata": {
        "id": "BJJA-4jPnfUe"
      }
    },
    {
      "cell_type": "code",
      "source": [
        "class BankAccount:\n",
        "    def __init__(self, name, amount):\n",
        "        self.name = name\n",
        "        self.amt = amount\n",
        "    def __str__(self):\n",
        "        return \"Your account, {}, has {} dollars.\".format(self.name, self.amt)\n",
        "\n",
        "\n",
        "t1 = BankAccount(\"Bob\",100)"
      ],
      "metadata": {
        "id": "Nm2YOwsCpvky"
      },
      "execution_count": null,
      "outputs": []
    },
    {
      "cell_type": "code",
      "source": [
        "from random import randrange\n",
        "\n",
        "class Pet():\n",
        "    boredom_decrement = 4\n",
        "    hunger_decrement = 6\n",
        "    boredom_threshold = 5\n",
        "    hunger_threshold = 10\n",
        "    sounds = ['Mrrp']\n",
        "    def __init__(self, name = \"Kitty\", pet_type=\"dog\"):\n",
        "        self.name = name\n",
        "        self.hunger = randrange(self.hunger_threshold)\n",
        "        self.boredom = randrange(self.boredom_threshold)\n",
        "        self.sounds = self.sounds[:]  # copy the class attribute, so that when we make changes to it, we won't affect the other Pets in the class\n",
        "        self.pet_type = pet_type\n",
        "\n",
        "    def clock_tick(self):\n",
        "        self.boredom += 1\n",
        "        self.hunger += 1\n",
        "\n",
        "    def mood(self):\n",
        "        if self.hunger <= self.hunger_threshold and self.boredom <= self.boredom_threshold:\n",
        "            if self.pet_type == \"dog\": # if the pet is a dog, it will express its mood in different ways from a cat or any other type of animal\n",
        "                return \"happy\"\n",
        "            elif self.pet_type == \"cat\":\n",
        "                return \"happy, probably\"\n",
        "            else:\n",
        "                return \"HAPPY\"\n",
        "        elif self.hunger > self.hunger_threshold:\n",
        "            if self.pet_type == \"dog\": # same for hunger -- dogs and cats will express their hunger a little bit differently in this version of the class definition\n",
        "                return \"hungry, arf\"\n",
        "            elif self.pet_type == \"cat\":\n",
        "                return \"hungry, meeeeow\"\n",
        "            else:\n",
        "                return \"hungry\"\n",
        "        else:\n",
        "            return \"bored\"\n",
        "\n",
        "    def __str__(self):\n",
        "        state = \"     I'm \" + self.name + \". \"\n",
        "        state += \" I feel \" + self.mood() + \". \"\n",
        "        return state\n",
        "\n",
        "    def hi(self):\n",
        "        print(self.sounds[randrange(len(self.sounds))])\n",
        "        self.reduce_boredom()\n",
        "\n",
        "    def teach(self, word):\n",
        "        self.sounds.append(word)\n",
        "        self.reduce_boredom()\n",
        "\n",
        "    def feed(self):\n",
        "        self.reduce_hunger()\n",
        "\n",
        "    def reduce_hunger(self):\n",
        "        self.hunger = max(0, self.hunger - self.hunger_decrement)\n",
        "\n",
        "    def reduce_boredom(self):\n",
        "        self.boredom = max(0, self.boredom - self.boredom_decrement)"
      ],
      "metadata": {
        "id": "7cFIIshei88W"
      },
      "execution_count": null,
      "outputs": []
    },
    {
      "cell_type": "code",
      "source": [
        "from random import randrange\n",
        "\n",
        "# Here's the original Pet class\n",
        "class Pet():\n",
        "    boredom_decrement = 4\n",
        "    hunger_decrement = 6\n",
        "    boredom_threshold = 5\n",
        "    hunger_threshold = 10\n",
        "    sounds = ['Mrrp']\n",
        "    def __init__(self, name = \"Kitty\"):\n",
        "        self.name = name\n",
        "        self.hunger = randrange(self.hunger_threshold)\n",
        "        self.boredom = randrange(self.boredom_threshold)\n",
        "        self.sounds = self.sounds[:]  # copy the class attribute, so that when we make changes to it, we won't affect the other Pets in the class\n",
        "\n",
        "    def clock_tick(self):\n",
        "        self.boredom += 1\n",
        "        self.hunger += 1\n",
        "\n",
        "    def mood(self):\n",
        "        if self.hunger <= self.hunger_threshold and self.boredom <= self.boredom_threshold:\n",
        "            return \"happy\"\n",
        "        elif self.hunger > self.hunger_threshold:\n",
        "            return \"hungry\"\n",
        "        else:\n",
        "            return \"bored\"\n",
        "\n",
        "    def __str__(self):\n",
        "        state = \"     I'm \" + self.name + \". \"\n",
        "        state += \" I feel \" + self.mood() + \". \"\n",
        "        # state += \"Hunger %d Boredom %d Words %s\" % (self.hunger, self.boredom, self.sounds)\n",
        "        return state\n",
        "\n",
        "    def hi(self):\n",
        "        print(self.sounds[randrange(len(self.sounds))])\n",
        "        self.reduce_boredom()\n",
        "\n",
        "    def teach(self, word):\n",
        "        self.sounds.append(word)\n",
        "        self.reduce_boredom()\n",
        "\n",
        "    def feed(self):\n",
        "        self.reduce_hunger()\n",
        "\n",
        "    def reduce_hunger(self):\n",
        "        self.hunger = max(0, self.hunger - self.hunger_decrement)\n",
        "\n",
        "    def reduce_boredom(self):\n",
        "        self.boredom = max(0, self.boredom - self.boredom_decrement)\n",
        "\n",
        "# Here's the new definition of class Cat, a subclass of Pet.\n",
        "class Cat(Pet): # the class name that the new class inherits from goes in the parentheses, like so.\n",
        "    sounds = ['Meow']\n",
        "\n",
        "    def chasing_rats(self):\n",
        "        return \"What are you doing, Pinky? Taking over the world?!\"\n"
      ],
      "metadata": {
        "id": "dOf2TWkqCAqg"
      },
      "execution_count": null,
      "outputs": []
    },
    {
      "cell_type": "code",
      "source": [
        "p1 = Pet(\"Fido\")\n",
        "print(p1) # we've seen this stuff before!\n",
        "\n",
        "p1.feed()\n",
        "p1.hi()\n",
        "print(p1)\n",
        "\n",
        "cat1 = Cat(\"Fluffy\")\n",
        "print(cat1) # this uses the same __str__ method as the Pets do\n",
        "\n",
        "cat1.feed() # Totally fine, because the cat class inherits from the Pet class!\n",
        "cat1.hi()\n",
        "print(cat1)\n",
        "\n",
        "print(cat1.chasing_rats())\n",
        "\n",
        "#print(p1.chasing_rats()) # This line will give us an error. The Pet class doesn't have this method!\n"
      ],
      "metadata": {
        "id": "cZ-hQlplCK7o"
      },
      "execution_count": null,
      "outputs": []
    },
    {
      "cell_type": "code",
      "source": [
        "class Cheshire(Cat): # this inherits from Cat, which inherits from Pet\n",
        "\n",
        "    def smile(self): # this method is specific to instances of Cheshire\n",
        "        print(\":D :D :D\")\n",
        "\n",
        "# Let's try it with instances.\n",
        "cat1 = Cat(\"Fluffy\")\n",
        "cat1.feed() # Totally fine, because the cat class inherits from the Pet class!\n",
        "cat1.hi() # Uses the special Cat hello.\n",
        "print(cat1)\n",
        "\n",
        "print(cat1.chasing_rats())\n",
        "\n",
        "new_cat = Cheshire(\"Pumpkin\") # create a Cheshire cat instance with name \"Pumpkin\"\n",
        "new_cat.hi() # same as Cat!\n",
        "new_cat.chasing_rats() # OK, because Cheshire inherits from Cat\n",
        "new_cat.smile() # Only for Cheshire instances (and any classes that you make inherit from Cheshire)\n",
        "\n",
        "# cat1.smile() # This line would give you an error, because the Cat class does not have this method!\n",
        "\n",
        "# None of the subclass methods can be used on the parent class, though.\n",
        "p1 = Pet(\"Teddy\")\n",
        "p1.hi() # just the regular Pet hello\n",
        "#p1.chasing_rats() # This will give you an error -- this method doesn't exist on instances of the Pet class.\n",
        "#p1.smile() # This will give you an error, too. This method does not exist on instances of the Pet class.\n"
      ],
      "metadata": {
        "id": "5Q_ZOxGtCYVN"
      },
      "execution_count": null,
      "outputs": []
    },
    {
      "cell_type": "code",
      "source": [
        "class Bird(Pet):\n",
        "    sounds = [\"chirp\"]\n",
        "    def __init__(self, name=\"Kitty\", chirp_number=2):\n",
        "        Pet.__init__(self, name) # call the parent class's constructor\n",
        "        # basically, call the SUPER -- the parent version -- of the constructor, with all the parameters that it needs.\n",
        "        self.chirp_number = chirp_number # now, also assign the new instance variable\n",
        "\n",
        "    def hi(self):\n",
        "        for i in range(self.chirp_number):\n",
        "            print(self.sounds[randrange(len(self.sounds))])\n",
        "        self.reduce_boredom()\n",
        "\n",
        "b1 = Bird('tweety', 5)\n",
        "b1.teach(\"Polly wanna cracker\")\n",
        "b1.hi()"
      ],
      "metadata": {
        "id": "CC7NoiRQDSas"
      },
      "execution_count": null,
      "outputs": []
    },
    {
      "cell_type": "code",
      "source": [
        "from random import randrange\n",
        "\n",
        "class Dog(Pet):\n",
        "    sounds = ['Woof', 'Ruff']\n",
        "\n",
        "    def feed(self):\n",
        "        Pet.feed(self)\n",
        "        print(\"Arf! Thanks!\")\n",
        "\n",
        "d1 = Dog(\"Astro\")\n",
        "\n",
        "d1.feed()"
      ],
      "metadata": {
        "id": "vAnltAbUDZM0"
      },
      "execution_count": null,
      "outputs": []
    },
    {
      "cell_type": "markdown",
      "source": [
        "\n",
        "\n",
        "The class, Pokemon, is provided below and describes a Pokemon and its leveling and evolving characteristics. An instance of the class is one pokemon that you create.\n",
        "\n",
        "Grass_Pokemon is a subclass that inherits from Pokemon but changes some aspects, for instance, the boost values are different.\n",
        "\n",
        "For the subclass Grass_Pokemon, add another method called action that returns the string \"[name of pokemon] knows a lot of different moves!\". Create an instance of this class with the name as \"Belle\". Assign this instance to the variable p1.\n"
      ],
      "metadata": {
        "id": "ENGM0fp4EvEw"
      }
    },
    {
      "cell_type": "code",
      "source": [
        "\n",
        "class Pokemon(object):\n",
        "    attack = 12\n",
        "    defense = 10\n",
        "    health = 15\n",
        "    p_type = \"Normal\"\n",
        "\n",
        "    def __init__(self, name, level = 5):\n",
        "        self.name = name\n",
        "        self.level = level\n",
        "\n",
        "    def train(self):\n",
        "        self.update()\n",
        "        self.attack_up()\n",
        "        self.defense_up()\n",
        "        self.health_up()\n",
        "        self.level = self.level + 1\n",
        "        if self.level%self.evolve == 0:\n",
        "            return self.level, \"Evolved!\"\n",
        "        else:\n",
        "            return self.level\n",
        "\n",
        "    def attack_up(self):\n",
        "        self.attack = self.attack + self.attack_boost\n",
        "        return self.attack\n",
        "\n",
        "    def defense_up(self):\n",
        "        self.defense = self.defense + self.defense_boost\n",
        "        return self.defense\n",
        "\n",
        "    def health_up(self):\n",
        "        self.health = self.health + self.health_boost\n",
        "        return self.health\n",
        "\n",
        "    def update(self):\n",
        "        self.health_boost = 5\n",
        "        self.attack_boost = 3\n",
        "        self.defense_boost = 2\n",
        "        self.evolve = 10\n",
        "\n",
        "    def __str__(self):\n",
        "        self.update()\n",
        "        return \"Pokemon name: {}, Type: {}, Level: {}\".format(self.name, self.p_type, self.level)\n",
        "\n",
        "class Grass_Pokemon(Pokemon):\n",
        "    attack = 15\n",
        "    defense = 14\n",
        "    health = 12\n",
        "\n",
        "    def update(self):\n",
        "        self.health_boost = 6\n",
        "        self.attack_boost = 2\n",
        "        self.defense_boost = 3\n",
        "        self.evolve = 12\n",
        "\n",
        "    def moves(self):\n",
        "        self.p_moves = [\"razor leaf\", \"synthesis\", \"petal dance\"]\n",
        "    def action(self):\n",
        "        return \"{} knows a lot of different moves!\" .format(self.name)\n",
        "\n",
        "p1 = Grass_Pokemon(\"Belle\")"
      ],
      "metadata": {
        "id": "EDlXQwKZEupu"
      },
      "execution_count": null,
      "outputs": []
    },
    {
      "cell_type": "markdown",
      "source": [
        "\n",
        "\n",
        "Modify the Grass_Pokemon subclass so that the attack strength for Grass_Pokemon instances does not change until they reach level 10. At level 10 and up, their attack strength should increase by the attack_boost amount when they are trained.\n",
        "\n",
        "To test, create an instance of the class with the name as \"Bulby\". Assign the instance to the variable p2. Create another instance of the Grass_Pokemon class with the name set to \"Pika\" and assign that instance to the variable p3. Then, use Grass_Pokemon methods to train the p3 Grass_Pokemon instance until it reaches at least level 10.\n"
      ],
      "metadata": {
        "id": "YuAqgdoPE001"
      }
    },
    {
      "cell_type": "code",
      "source": [
        "class Grass_Pokemon(Pokemon):\n",
        "    attack = 15\n",
        "    defense = 14\n",
        "    health = 12\n",
        "    p_type = \"Grass\"\n",
        "\n",
        "    def update(self):\n",
        "        self.health_boost = 6\n",
        "        self.attack_boost = 2\n",
        "        self.defense_boost = 3\n",
        "        self.evolve = 12\n",
        "\n",
        "    def attack_up(self):\n",
        "        if self.level >= 10:\n",
        "            self.attack = self.attack + self.attack_boost\n",
        "        return self.attack\n",
        "\n",
        "    def moves(self):\n",
        "        self.p_moves = [\"razor leaf\", \"synthesis\", \"petal dance\"]\n"
      ],
      "metadata": {
        "id": "eidrXxfAE3dI"
      },
      "execution_count": null,
      "outputs": []
    },
    {
      "cell_type": "markdown",
      "source": [
        "\n",
        "\n",
        "Along with the Pokemon parent class, we have also provided several subclasses. Write another method in the parent class that will be inherited by the subclasses. Call it opponent. It should return which type of pokemon the current type is weak and strong against, as a tuple.\n",
        "\n",
        "    Grass is weak against Fire and strong against Water\n",
        "\n",
        "    Ghost is weak against Dark and strong against Psychic\n",
        "\n",
        "    Fire is weak against Water and strong against Grass\n",
        "\n",
        "    Flying is weak against Electric and strong against Fighting\n",
        "\n",
        "For example, if the p_type of the subclass is 'Grass', .opponent() should return the tuple ('Fire', 'Water')\n"
      ],
      "metadata": {
        "id": "mCyZAv-HHQwB"
      }
    },
    {
      "cell_type": "code",
      "source": [
        "class Pokemon():\n",
        "    attack = 12\n",
        "    defense = 10\n",
        "    health = 15\n",
        "    p_type = \"Normal\"\n",
        "\n",
        "    def __init__(self, name, level=5):\n",
        "        self.name = name\n",
        "        self.level = level\n",
        "        self.weak = \"Normal\"\n",
        "        self.strong = \"Normal\"\n",
        "\n",
        "    def train(self):\n",
        "        self.update()\n",
        "        self.attack_up()\n",
        "        self.defense_up()\n",
        "        self.health_up()\n",
        "        self.level = self.level + 1\n",
        "        if self.level % self.evolve == 0:\n",
        "            return self.level, \"Evolved!\"\n",
        "        else:\n",
        "            return self.level\n",
        "\n",
        "    def attack_up(self):\n",
        "        self.attack = self.attack + self.attack_boost\n",
        "        return self.attack\n",
        "\n",
        "    def defense_up(self):\n",
        "        self.defense = self.defense + self.defense_boost\n",
        "        return self.defense\n",
        "\n",
        "    def health_up(self):\n",
        "        self.health = self.health + self.health_boost\n",
        "        return self.health\n",
        "\n",
        "    def update(self):\n",
        "        self.health_boost = 5\n",
        "        self.attack_boost = 3\n",
        "        self.defense_boost = 2\n",
        "        self.evolve = 10\n",
        "\n",
        "    def opponent(self):\n",
        "        type_map = {\n",
        "            \"Grass\": (\"Fire\", \"Water\"),\n",
        "            \"Ghost\": (\"Dark\", \"Psychic\"),\n",
        "            \"Fire\": (\"Water\", \"Grass\"),\n",
        "            \"Flying\": (\"Electric\", \"Fighting\")\n",
        "        }\n",
        "        return type_map[self.p_type]\n",
        "\n",
        "    def __str__(self):\n",
        "        self.update()\n",
        "        return \"Pokemon name: {}, Type: {}, Level: {}\".format(self.name, self.p_type, self.level)\n",
        "\n",
        "class Grass_Pokemon(Pokemon):\n",
        "    attack = 15\n",
        "    defense = 14\n",
        "    health = 12\n",
        "    p_type = \"Grass\"\n",
        "\n",
        "    def update(self):\n",
        "        self.health_boost = 6\n",
        "        self.attack_boost = 2\n",
        "        self.defense_boost = 3\n",
        "        self.evolve = 12\n",
        "\n",
        "class Ghost_Pokemon(Pokemon):\n",
        "    p_type = \"Ghost\"\n",
        "\n",
        "    def update(self):\n",
        "        self.health_boost = 3\n",
        "        self.attack_boost = 4\n",
        "        self.defense_boost = 3\n",
        "\n",
        "class Fire_Pokemon(Pokemon):\n",
        "    p_type = \"Fire\"\n",
        "\n",
        "class Flying_Pokemon(Pokemon):\n",
        "    p_type = \"Flying\"\n",
        "\n"
      ],
      "metadata": {
        "id": "p1_mTPSeKChK"
      },
      "execution_count": null,
      "outputs": []
    }
  ]
}