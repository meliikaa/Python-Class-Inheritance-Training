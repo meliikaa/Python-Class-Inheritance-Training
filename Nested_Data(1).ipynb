{
  "nbformat": 4,
  "nbformat_minor": 0,
  "metadata": {
    "colab": {
      "provenance": []
    },
    "kernelspec": {
      "name": "python3",
      "display_name": "Python 3"
    },
    "language_info": {
      "name": "python"
    }
  },
  "cells": [
    {
      "cell_type": "markdown",
      "source": [
        "The variable nested contains a nested list. Assign ‘snake’ to the variable output using indexing"
      ],
      "metadata": {
        "id": "jsf0IzuSkXD8"
      }
    },
    {
      "cell_type": "code",
      "execution_count": null,
      "metadata": {
        "id": "8Tk7assnkMrg"
      },
      "outputs": [],
      "source": [
        "nested = [['dog', 'cat', 'horse'], ['frog', 'turtle', 'snake', 'gecko'], ['hamster', 'gerbil', 'rat', 'ferret']]\n",
        "output = nested[1][2]\n",
        "print(output)"
      ]
    },
    {
      "cell_type": "markdown",
      "source": [
        "Below, a list of lists is provided. Use in and not in tests to create variables with Boolean values. See comments for further instructions."
      ],
      "metadata": {
        "id": "cAZ-xi2mkaWi"
      }
    },
    {
      "cell_type": "code",
      "source": [
        "\n",
        "lst = [['apple', 'orange', 'banana'], [5, 6, 7, 8, 9.9, 10], ['green', 'yellow', 'purple', 'red']]\n",
        "\n",
        "#Test to see if 'yellow' is in the third list of lst. Save to variable ``yellow``\n",
        "yellow = 'yellow' in lst[2]\n",
        "\n",
        "#Test to see if 4 is in the second list of lst. Save to variable ``four``\n",
        "four = 4 in lst[1]\n",
        "\n",
        "#Test to see if 'orange' is in the first element of lst. Save to variable ``orange``\n",
        "orange = 'orange' in lst[0]"
      ],
      "metadata": {
        "id": "IRqzK6KZkacB"
      },
      "execution_count": null,
      "outputs": []
    },
    {
      "cell_type": "markdown",
      "source": [
        "Below, we’ve provided a list of lists. Use in statements to create variables with Boolean values - see the ActiveCode window for further directions."
      ],
      "metadata": {
        "id": "Zg_Lg5uxlTG9"
      }
    },
    {
      "cell_type": "code",
      "source": [
        "\n",
        "L = [[5, 8, 7], ['hello', 'hi', 'hola'], [6.6, 1.54, 3.99], ['small', 'large']]\n",
        "\n",
        "# Test if 'hola' is in the list L. Save to variable name test1\n",
        "test1 = 'hola' in L\n",
        "# Test if [5, 8, 7] is in the list L. Save to variable name test2\n",
        "test2 = [5,8,7] in L\n",
        "# Test if 6.6 is in the third element of list L. Save to variable name test3\n",
        "test3 = 6.6 in L[2]\n"
      ],
      "metadata": {
        "id": "U755JaRvlTeJ"
      },
      "execution_count": null,
      "outputs": []
    },
    {
      "cell_type": "markdown",
      "source": [
        "Provided is a nested data structure. Follow the instructions in the comments below. Do not hard code."
      ],
      "metadata": {
        "id": "pjscMMOkl6SG"
      }
    },
    {
      "cell_type": "code",
      "source": [
        "nested = {'data': ['finding', 23, ['exercises', 'hangout', 34]], 'window': ['part', 'whole', [], 'sum', ['math', 'calculus', 'algebra', 'geometry', 'statistics',['physics', 'chemistry', 'biology']]]}\n",
        "\n",
        "# Check to see if the string 'data' is a key in nested, if it is, assign True to the variable data, otherwise assign False.\n",
        "data = 'data' in nested\n",
        "# Check to see if the integer 24 is in the value of the key data, if it is then assign to the variable twentyfour the value of True, otherwise False.\n",
        "twentyfour = 24 in nested['data']\n",
        "# Check to see that the string 'whole' is not in the value of the key window. If it's not, then assign to the variable whole the value of True, otherwise False.\n",
        "whole = 'whole' in nested\n",
        "# Check to see if the string 'physics' is a key in the dictionary nested. If it is, assign to the variable physics, the value of True, otherwise False.\n",
        "\n",
        "physics = 'physics' in nested"
      ],
      "metadata": {
        "id": "Y9099_MYopoT"
      },
      "execution_count": null,
      "outputs": []
    },
    {
      "cell_type": "markdown",
      "source": [
        "The variable nested_d contains a nested dictionary with the gold medal counts for the top four countries in the past three Olympics. Assign the value of Great Britain’s gold medal count from the London Olympics to the variable london_gold. Use indexing. Do not hardcode."
      ],
      "metadata": {
        "id": "DhwOQt6ipGiE"
      }
    },
    {
      "cell_type": "code",
      "source": [
        "nested_d = {'Beijing':{'China':51, 'USA':36, 'Russia':22, 'Great Britain':19}, 'London':{'USA':46, 'China':38, 'Great Britain':29, 'Russia':22}, 'Rio':{'USA':35, 'Great Britain':22, 'China':20, 'Germany':13}}\n",
        "london_gold = nested_d['London']['Great Britain']\n",
        "print(london_gold)\n"
      ],
      "metadata": {
        "id": "4fWiNsCtpG5j"
      },
      "execution_count": null,
      "outputs": []
    },
    {
      "cell_type": "markdown",
      "source": [
        "Below, we have provided a nested dictionary. Index into the dictionary to create variables that we have listed in the ActiveCode window."
      ],
      "metadata": {
        "id": "c4AI-3xCpg1U"
      }
    },
    {
      "cell_type": "code",
      "source": [
        "sports = {'swimming': ['butterfly', 'breaststroke', 'backstroke', 'freestyle'], 'diving': ['springboard', 'platform', 'synchronized'], 'track': ['sprint', 'distance', 'jumps', 'throws'], 'gymnastics': {'women': ['vault', 'floor', 'uneven bars', 'balance beam'], 'men': ['vault', 'parallel bars', 'floor', 'rings']}}\n",
        "\n",
        "# Assign the string 'backstroke' to the name v1\n",
        "v1 = sports['swimming'][2]\n",
        "\n",
        "# Assign the string 'platform' to the name v2\n",
        "v2 = sports['diving'][1]\n",
        "\n",
        "# Assign the list ['vault', 'floor', 'uneven bars', 'balance beam'] to the name v3\n",
        "v3 = sports['gymnastics']['women']\n",
        "\n",
        "# Assign the string 'rings' to the name v4\n",
        "v4 = sports['gymnastics']['men'][3]"
      ],
      "metadata": {
        "id": "mfMXLpcBqOpD"
      },
      "execution_count": null,
      "outputs": []
    },
    {
      "cell_type": "markdown",
      "source": [
        "Given the dictionary, nested_d, save the medal count for the USA from all three Olympics in the dictionary to the list US_count."
      ],
      "metadata": {
        "id": "eQYYEUnp5Q9_"
      }
    },
    {
      "cell_type": "code",
      "source": [
        "nested_d = {'Beijing':{'China':51, 'USA':36, 'Russia':22, 'Great Britain':19}, 'London':{'USA':46, 'China':38, 'Great Britain':29, 'Russia':22}, 'Rio':{'USA':35, 'Great Britain':22, 'China':20, 'Germany':13}}\n",
        "temp1 = nested_d['Beijing']['USA']\n",
        "temp2 = nested_d['London']['USA']\n",
        "temp3 = nested_d['Rio']['USA']\n",
        "US_count = [temp1, temp2, temp3]\n",
        "\n"
      ],
      "metadata": {
        "id": "6wtaCzT45RSL"
      },
      "execution_count": null,
      "outputs": []
    },
    {
      "cell_type": "markdown",
      "source": [
        "Iterate through the contents of l_of_l and assign the third element of sublist to a new list called third."
      ],
      "metadata": {
        "id": "uuCkaTlH6s_b"
      }
    },
    {
      "cell_type": "code",
      "source": [
        "\n",
        "l_of_l = [['purple', 'mauve', 'blue'], ['red', 'maroon', 'blood orange', 'crimson'], ['sea green', 'cornflower', 'lavender', 'indigo'], ['yellow', 'amarillo', 'mac n cheese', 'golden rod']]\n",
        "third = [sublist[2] for sublist in l_of_l]"
      ],
      "metadata": {
        "id": "myHmSDNb6tQJ"
      },
      "execution_count": null,
      "outputs": []
    },
    {
      "cell_type": "markdown",
      "source": [
        "Given below is a list of lists of athletes. Create a list, t, that saves only the athlete’s name if it contains the letter “t”. If it does not contain the letter “t”, save the athlete name into list other."
      ],
      "metadata": {
        "id": "sC4LgV-Y60PB"
      }
    },
    {
      "cell_type": "code",
      "source": [
        "athletes = [['Phelps', 'Lochte', 'Schooling', 'Ledecky', 'Franklin'], ['Felix', 'Bolt', 'Gardner', 'Eaton'], ['Biles', 'Douglas', 'Hamm', 'Raisman', 'Mikulak', 'Dalton']]\n",
        "t= []\n",
        "other = []\n",
        "for sublist in athletes:\n",
        "    for word in sublist:\n",
        "        if 't' in word:\n",
        "            t.append(word)\n",
        "        else:\n",
        "            other.append(word)\n",
        "t = [name for sublist in athletes for name in sublist if 't' in name.lower()]\n",
        "other = [name for sublist in athletes for name in sublist if 't' not in name.lower()]\n"
      ],
      "metadata": {
        "id": "nFjSW_2x7nz3"
      },
      "execution_count": null,
      "outputs": []
    },
    {
      "cell_type": "markdown",
      "source": [
        "Write code to assign to the variable map_testing all the elements in lst_check while adding the string “Fruit: ” to the beginning of each element using mapping."
      ],
      "metadata": {
        "id": "Wku6Ts5A9t7v"
      }
    },
    {
      "cell_type": "code",
      "source": [
        "lst_check = ['plums', 'watermelon', 'kiwi', 'strawberries', 'blueberries', 'peaches', 'apples', 'mangos', 'papaya']\n",
        "\n",
        "\n",
        "map_testing = list(map(lambda x: \"Fruit: \" + x, lst_check))\n",
        "\n",
        "i = 0\n",
        "map_testing = []\n",
        "while i<(len(lst_check)):\n",
        "    temp=map(\"fruit\",lst_check[i])\n",
        "    map_testing.append(temp)\n",
        "    i +=1"
      ],
      "metadata": {
        "id": "siie88lm9uFL"
      },
      "execution_count": null,
      "outputs": []
    },
    {
      "cell_type": "markdown",
      "source": [
        "Below, we have provided a list of strings called countries. Use filter to produce a list called b_countries that only contains the strings from countries that begin with B."
      ],
      "metadata": {
        "id": "cC9RrT5GAAuG"
      }
    },
    {
      "cell_type": "code",
      "source": [
        "countries = ['Canada', 'Mexico', 'Brazil', 'Chile', 'Denmark', 'Botswana', 'Spain', 'Britain', 'Portugal', 'Russia', 'Thailand', 'Bangladesh', 'Nigeria', 'Argentina', 'Belarus', 'Laos', 'Australia', 'Panama', 'Egypt', 'Morocco', 'Switzerland', 'Belgium']\n",
        "\n",
        "b_countries = list(filter(lambda coun: 'B' in coun, countries))"
      ],
      "metadata": {
        "id": "kh5OohRwADgj"
      },
      "execution_count": null,
      "outputs": []
    },
    {
      "cell_type": "markdown",
      "source": [
        "Below, we have provided a list of tuples that contain the names of Game of Thrones characters. Using list comprehension, create a list of strings called first_names that contains only the first names of everyone in the original list."
      ],
      "metadata": {
        "id": "mKhDJZbPBA-D"
      }
    },
    {
      "cell_type": "code",
      "source": [
        "people = [('Snow', 'Jon'), ('Lannister', 'Cersei'), ('Stark', 'Arya'), ('Stark', 'Robb'), ('Lannister', 'Jamie'), ('Targaryen', 'Daenerys'), ('Stark', 'Sansa'), ('Tyrell', 'Margaery'), ('Stark', 'Eddard'), ('Lannister', 'Tyrion'), ('Baratheon', 'Joffrey'), ('Bolton', 'Ramsey'), ('Baelish', 'Peter')]\n",
        "\n",
        "first_names = [name[1] for name in people]"
      ],
      "metadata": {
        "id": "a_IsV452B-Ub"
      },
      "execution_count": null,
      "outputs": []
    },
    {
      "cell_type": "markdown",
      "source": [
        "Use list comprehension to create a list called lst2 that doubles each element in the list, lst."
      ],
      "metadata": {
        "id": "X18lphyPCOuH"
      }
    },
    {
      "cell_type": "code",
      "source": [
        "\n",
        "lst = [[\"hi\", \"bye\"], \"hello\", \"goodbye\", [9, 2], 4]\n",
        "lst2 = [item*2 for item in lst]\n"
      ],
      "metadata": {
        "id": "yGZJXodmCO1J"
      },
      "execution_count": null,
      "outputs": []
    },
    {
      "cell_type": "markdown",
      "source": [
        "Below, we have provided a list of tuples that contain students’ names and their final grades in PYTHON 101. Using list comprehension, create a new list passed that contains the names of students who passed the class (had a final grade of 70 or greater)."
      ],
      "metadata": {
        "id": "fOhKY_YoCUQJ"
      }
    },
    {
      "cell_type": "code",
      "source": [
        "\n",
        "students = [('Tommy', 95), ('Linda', 63), ('Carl', 70), ('Bob', 100), ('Raymond', 50), ('Sue', 75)]\n",
        "\n",
        "passed = [person[0] for person in students if person[1]>=70 ]"
      ],
      "metadata": {
        "id": "WLIKm0VUClP6"
      },
      "execution_count": null,
      "outputs": []
    },
    {
      "cell_type": "markdown",
      "source": [
        "Write code using zip and filter so that these lists (l1 and l2) are combined into one big list and assigned to the variable opposites if they are both longer than 3 characters each."
      ],
      "metadata": {
        "id": "7PVQEHhNCzUr"
      }
    },
    {
      "cell_type": "code",
      "source": [
        "l1 = ['left', 'up', 'front']\n",
        "l2 = ['right', 'down', 'back']\n",
        "\n",
        "temp = list(zip(l1,l2))\n",
        "opposites = [item for item in temp if len(item[0]) > 3 and len(item[1]) > 3]\n",
        "opposites = list(filter(lambda pair: len(pair[0]) > 3 and len(pair[1]) > 3, zip(l1, l2)))\n"
      ],
      "metadata": {
        "id": "ufRXlkLZDsQT"
      },
      "execution_count": null,
      "outputs": []
    },
    {
      "cell_type": "markdown",
      "source": [
        "Below, we have provided a species list and a population list. Use zip to combine these lists into one list of tuples called pop_info. From this list, create a new list called endangered that contains the names of species whose populations are below 2500."
      ],
      "metadata": {
        "id": "27UKQCoPDsaf"
      }
    },
    {
      "cell_type": "code",
      "source": [
        "\n",
        "species = ['golden retriever', 'white tailed deer', 'black rhino', 'brown squirrel', 'field mouse', 'orangutan', 'sumatran elephant', 'rainbow trout', 'black bear', 'blue whale', 'water moccasin', 'giant panda', 'green turtle', 'blue jay', 'japanese beetle']\n",
        "\n",
        "population = [10000, 90000, 1000, 2000000, 500000, 500, 1200, 8000, 12000, 2300, 7500, 100, 1800, 9500, 125000]\n",
        "\n",
        "pop_info = list(zip(species,population))\n",
        "endangered = [item[0] for item in pop_info if item[1]< 2500]"
      ],
      "metadata": {
        "id": "6_ttlfd6Dv3X"
      },
      "execution_count": null,
      "outputs": []
    }
  ]
}