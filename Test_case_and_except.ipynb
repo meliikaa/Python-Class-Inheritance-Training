{
  "nbformat": 4,
  "nbformat_minor": 0,
  "metadata": {
    "colab": {
      "provenance": []
    },
    "kernelspec": {
      "name": "python3",
      "display_name": "Python 3"
    },
    "language_info": {
      "name": "python"
    }
  },
  "cells": [
    {
      "cell_type": "code",
      "execution_count": null,
      "metadata": {
        "id": "XMCDKGC_nBil"
      },
      "outputs": [],
      "source": [
        "import unittest\n",
        "\n",
        "def square(x):\n",
        "    return x * x\n",
        "\n",
        "class SquareTestCase(unittest.TestCase):\n",
        "    def test_square(self):\n",
        "        self.assertEqual(square(3), 9)\n",
        "        self.assertEqual(square(4), 16)\n",
        "        self.assertEqual(square(5), 25)"
      ]
    },
    {
      "cell_type": "code",
      "source": [
        "def update_counts(letters, counts_d):\n",
        "    for c in letters:\n",
        "        counts_d[c] = 1\n",
        "        if c in counts_d:\n",
        "            counts_d[c] = counts_d[c] + 1\n",
        "\n",
        "\n",
        "counts = {'a': 3, 'b': 2}\n",
        "update_counts(\"aaab\", counts)\n",
        "import unittest\n",
        "# 3 more occurrences of a, so 6 in all\n",
        "#unittest.assertEqual(counts['a'],6)\n",
        "# 1 more occurrence of b, so 3 in all\n",
        "assert counts['b'] == 2\n"
      ],
      "metadata": {
        "id": "L1OIad0TPP0a"
      },
      "execution_count": null,
      "outputs": []
    },
    {
      "cell_type": "code",
      "source": [
        "class Point:\n",
        "    \"\"\" Point class for representing and manipulating x,y coordinates. \"\"\"\n",
        "\n",
        "    def __init__(self, initX, initY):\n",
        "\n",
        "        self.x = initX\n",
        "        self.y = initY\n",
        "\n",
        "    def distanceFromOrigin(self):\n",
        "        return ((self.x ** 2) + (self.y ** 2)) ** 0.5\n",
        "\n",
        "    def move(self, dx, dy):\n",
        "        self.x = self.x + dx\n",
        "        self.y = self.y + dy\n",
        "\n",
        "\n",
        "#testing class constructor (__init__ method)\n",
        "p = Point(3, 4)\n",
        "assert p.y == 4\n",
        "assert p.x == 3\n",
        "\n",
        "#testing the distance method\n",
        "p = Point(3, 4)\n",
        "assert p.distanceFromOrigin() == 5.0\n",
        "\n",
        "#testing the move method\n",
        "p = Point(3, 4)\n",
        "p.move(-2, 3)\n",
        "assert p.x == 1\n",
        "assert p.y == 7"
      ],
      "metadata": {
        "id": "3VngzOmpRX8h"
      },
      "execution_count": null,
      "outputs": []
    },
    {
      "cell_type": "code",
      "source": [
        "items = ['a', 'b']\n",
        "\n",
        "try:\n",
        "    third = items[2]\n",
        "except:\n",
        "    print(\"hey missed a point\")"
      ],
      "metadata": {
        "id": "BhOuXeuRz0lv"
      },
      "execution_count": null,
      "outputs": []
    },
    {
      "cell_type": "code",
      "source": [
        "try:\n",
        "    items = ['a', 'b']\n",
        "    third = items[2]\n",
        "    print(\"This won't print\")\n",
        "except Exception:\n",
        "    print(\"got an error\")\n",
        "\n",
        "print(\"continuing\")\n"
      ],
      "metadata": {
        "id": "sM9aIym_10B6"
      },
      "execution_count": null,
      "outputs": []
    },
    {
      "cell_type": "markdown",
      "source": [
        "Most of the standard exceptions built into Python are listed below. They are organized into related groups based on the types of issues they deal with.\n",
        "\n",
        "Language Exceptions\n",
        "\n",
        "Description\n",
        "\n",
        "StandardError\n",
        "\n",
        "Base class for all built-in exceptions except StopIteration and SystemExit.\n",
        "\n",
        "ImportError\n",
        "\n",
        "Raised when an import statement fails.\n",
        "\n",
        "SyntaxError\n",
        "\n",
        "Raised when there is an error in Python syntax.\n",
        "\n",
        "IndentationError\n",
        "\n",
        "Raised when indentation is not specified properly.\n",
        "\n",
        "NameError\n",
        "\n",
        "Raised when an identifier is not found in the local or global namespace.\n",
        "\n",
        "UnboundLocalError\n",
        "\n",
        "Raised when trying to access a local variable in a function or method but no value has been assigned to it.\n",
        "\n",
        "TypeError\n",
        "\n",
        "Raised when an operation or function is attempted that is invalid for the specified data type.\n",
        "\n",
        "LookupError\n",
        "\n",
        "Base class for all lookup errors.\n",
        "\n",
        "IndexError\n",
        "\n",
        "Raised when an index is not found in a sequence.\n",
        "\n",
        "KeyError\n",
        "\n",
        "Raised when the specified key is not found in the dictionary.\n",
        "\n",
        "ValueError\n",
        "\n",
        "Raised when the built-in function for a data type has the valid type of arguments, but the arguments have invalid values specified.\n",
        "\n",
        "RuntimeError\n",
        "\n",
        "Raised when a generated error does not fall into any category.\n",
        "\n",
        "MemoryError\n",
        "\n",
        "Raised when a operation runs out of memory.\n",
        "\n",
        "RecursionError\n",
        "\n",
        "Raised when the maximum recursion depth has been exceeded.\n",
        "\n",
        "SystemError\n",
        "\n",
        "Raised when the interpreter finds an internal problem, but when this error is encountered the Python interpreter does not exit.\n",
        "\n",
        "Math Exceptions\n",
        "\n",
        "Description\n",
        "\n",
        "ArithmeticError\n",
        "\n",
        "Base class for all errors that occur for numeric calculation. You know a math error occurred, but you don’t know the specific error.\n",
        "\n",
        "OverflowError\n",
        "\n",
        "Raised when a calculation exceeds maximum limit for a numeric type.\n",
        "\n",
        "FloatingPointError\n",
        "\n",
        "Raised when a floating point calculation fails.\n",
        "\n",
        "ZeroDivisonError\n",
        "\n",
        "Raised when division or modulo by zero takes place for all numeric types.\n",
        "\n",
        "I/O Exceptions\n",
        "\n",
        "Description\n",
        "\n",
        "FileNotFoundError\n",
        "\n",
        "Raised when a file or directory is requested but doesn’t exist.\n",
        "\n",
        "IOError\n",
        "\n",
        "Raised when an input/ output operation fails, such as the print statement or the open() function when trying to open a file that does not exist. Also raised for operating system-related errors.\n",
        "\n",
        "PermissionError\n",
        "\n",
        "Raised when trying to run an operation without the adequate access rights.\n",
        "\n",
        "EOFError\n",
        "\n",
        "Raised when there is no input from either the raw_input() or input() function and the end of file is reached.\n",
        "\n",
        "KeyboardInterrupt\n",
        "\n",
        "Raised when the user interrupts program execution, usually by pressing Ctrl+c.\n",
        "\n",
        "Other Exceptions\n",
        "\n",
        "Description\n",
        "\n",
        "Exception\n",
        "\n",
        "Base class for all exceptions. This catches most exception messages.\n",
        "\n",
        "StopIteration\n",
        "\n",
        "Raised when the next() method of an iterator does not point to any object.\n",
        "\n",
        "AssertionError\n",
        "\n",
        "Raised in case of failure of the Assert statement.\n",
        "\n",
        "SystemExit\n",
        "\n",
        "Raised when Python interpreter is quit by using the sys.exit() function. If not handled in the code, it causes the interpreter to exit.\n",
        "\n",
        "OSError\n",
        "\n",
        "Raises for operating system related errors.\n",
        "\n",
        "EnvironmentError\n",
        "\n",
        "Base class for all exceptions that occur outside the Python environment.\n",
        "\n",
        "AttributeError\n",
        "\n",
        "Raised in case of failure of an attribute reference or assignment.\n",
        "\n",
        "NotImplementedError\n",
        "\n",
        "Raised when an abstract method that needs to be implemented in an inherited class is not actually implemented."
      ],
      "metadata": {
        "id": "gySocwyq4PC3"
      }
    },
    {
      "cell_type": "markdown",
      "source": [
        "Below, we have provided code that does not run. Add a try/except clause so the code runs without errors. If an element is not able to undergo the addition operation, the string ‘Error’ should be appended to plus_four."
      ],
      "metadata": {
        "id": "Uepn5aKY9dT8"
      }
    },
    {
      "cell_type": "code",
      "source": [
        "nums = [5, 9, '4', 3, 2, 1, 6, 5, '7', 4, 3, 2, 6, 7, 8, '0', 3, 4, 0, 6, 5, '3', 5, 6, 7, 8, '3', '1', 5, 6, 7, 9, 3, 2, 5, 6, '9', 2, 3, 4, 5, 1]\n",
        "\n",
        "plus_four = []\n",
        "\n",
        "for num in nums:\n",
        "    try:\n",
        "        plus_four.append(num+4)\n",
        "    except:\n",
        "         plus_four.append(\"Error\")\n",
        "\n",
        "\n"
      ],
      "metadata": {
        "id": "9Z05S9c39e8K"
      },
      "execution_count": null,
      "outputs": []
    },
    {
      "cell_type": "markdown",
      "source": [
        "The code below takes the list of country, country, and searches to see if it is in the dictionary gold which shows some countries who won gold during the Olympics. However, this code currently does not work. Correctly add try/except clause in the code so that it will correctly populate the list, country_gold, with either the number of golds won or the string “Did not get gold”."
      ],
      "metadata": {
        "id": "OBIZNFc7VDEc"
      }
    },
    {
      "cell_type": "code",
      "source": [
        "\n",
        "gold = {\"US\":46, \"Fiji\":1, \"Great Britain\":27, \"Cuba\":5, \"Thailand\":2, \"China\":26, \"France\":10}\n",
        "country = [\"Fiji\", \"Chile\", \"Mexico\", \"France\", \"Norway\", \"US\"]\n",
        "country_gold = []\n",
        "\n",
        "for x in country:\n",
        "    try:\n",
        "        country_gold.append(gold[x])\n",
        "    except:\n",
        "        country_gold.append(\"Did not get gold\")"
      ],
      "metadata": {
        "id": "fOXbF16dVESq"
      },
      "execution_count": null,
      "outputs": []
    },
    {
      "cell_type": "markdown",
      "source": [
        "Provided is a buggy for loop that tries to accumulate some values out of some dictionaries. Insert a try/except so that the code passes."
      ],
      "metadata": {
        "id": "Wl49LT-oVIOk"
      }
    },
    {
      "cell_type": "code",
      "source": [
        "\n",
        "di = [{\"Puppies\": 17, 'Kittens': 9, \"Birds\": 23, 'Fish': 90, \"Hamsters\": 49}, {\"Puppies\": 23, \"Birds\": 29, \"Fish\": 20, \"Mice\": 20, \"Snakes\": 7}, {\"Fish\": 203, \"Hamsters\": 93, \"Snakes\": 25, \"Kittens\": 89}, {\"Birds\": 20, \"Puppies\": 90, \"Snakes\": 21, \"Fish\": 10, \"Kittens\": 67}]\n",
        "total = 0\n",
        "for diction in di:\n",
        "    try:\n",
        "        total = total + diction['Puppies']\n",
        "    except:\n",
        "        print(\"passed\")\n",
        "\n",
        "print(\"Total number of puppies:\", total)\n"
      ],
      "metadata": {
        "id": "C_oIx8e9VaoI"
      },
      "execution_count": null,
      "outputs": []
    },
    {
      "cell_type": "markdown",
      "source": [
        "The list, numb, contains integers. Write code that populates the list remainder with the remainder of 36 divided by each number in numb. For example, the first element should be 0, because 36/6 has no remainder. If there is an error, have the string “Error” appear in the remainder."
      ],
      "metadata": {
        "id": "eUJuAgNjXxnz"
      }
    },
    {
      "cell_type": "code",
      "source": [
        "numb = [6, 0, 36, 8, 2, 36, 0, 12, 60, 0, 45, 0, 3, 23]\n",
        "\n",
        "remainder = []\n",
        "for item in numb:\n",
        "\n",
        "    try:\n",
        "        remainder.append(36%item)\n",
        "    except:\n",
        "        remainder.append(\"Error\")\n"
      ],
      "metadata": {
        "id": "L1iDAOBKXxuF"
      },
      "execution_count": null,
      "outputs": []
    },
    {
      "cell_type": "markdown",
      "source": [
        "Provided is buggy code, insert a try/except so that the code passes."
      ],
      "metadata": {
        "id": "iWMjJaWOYrGj"
      }
    },
    {
      "cell_type": "code",
      "source": [
        "\n",
        "lst = [2,4,10,42,12,0,4,7,21,4,83,8,5,6,8,234,5,6,523,42,34,0,234,1,435,465,56,7,3,43,23]\n",
        "\n",
        "lst_three = []\n",
        "temp =0\n",
        "for num in lst:\n",
        "    try:\n",
        "        temp = 3 % num\n",
        "        if temp == 0:\n",
        "            lst_three.append(num)\n",
        "    except:\n",
        "         print(\"nope\")\n",
        "\n",
        "\n"
      ],
      "metadata": {
        "id": "_456bMzlYrOG"
      },
      "execution_count": null,
      "outputs": []
    },
    {
      "cell_type": "markdown",
      "source": [
        "Write code so that the buggy code provided works using a try/except. When the codes does not work in the try, have it append to the list attempt the string “Error”."
      ],
      "metadata": {
        "id": "SmIAbe2GZbbQ"
      }
    },
    {
      "cell_type": "code",
      "source": [
        "\n",
        "full_lst = [\"ab\", 'cde', 'fgh', 'i', 'jkml', 'nop', 'qr', 's', 'tv', 'wxy', 'z']\n",
        "\n",
        "attempt = []\n",
        "\n",
        "for elem in full_lst:\n",
        "    try:\n",
        "        attempt.append(elem[1])\n",
        "    except:\n",
        "        attempt.append(\"Error\")\n"
      ],
      "metadata": {
        "id": "swiuKNLjZbhH"
      },
      "execution_count": null,
      "outputs": []
    },
    {
      "cell_type": "markdown",
      "source": [
        "The following code tries to append the third element of each list in conts to the new list third_countries. Currently, the code does not work. Add a try/except clause so the code runs without errors, and the string ‘Continent does not have 3 countries’ is appended to countries instead of producing an error."
      ],
      "metadata": {
        "id": "c4dms4hQZd6f"
      }
    },
    {
      "cell_type": "code",
      "source": [
        "conts = [['Spain', 'France', 'Greece', 'Portugal', 'Romania', 'Germany'], ['USA', 'Mexico', 'Canada'], ['Japan', 'China', 'Korea', 'Vietnam', 'Cambodia'], ['Argentina', 'Chile', 'Brazil', 'Ecuador', 'Uruguay', 'Venezuela'], ['Australia'], ['Zimbabwe', 'Morocco', 'Kenya', 'Ethiopa', 'South Africa'], ['Antarctica']]\n",
        "\n",
        "third_countries = []\n",
        "\n",
        "for c in conts:\n",
        "    try:\n",
        "        third_countries.append(c[2])\n",
        "    except IndexError:\n",
        "        third_countries.append('Continent does not have 3 countries')\n",
        "\n",
        "print(third_countries)\n"
      ],
      "metadata": {
        "id": "eweyr_n8iUnM"
      },
      "execution_count": null,
      "outputs": []
    },
    {
      "cell_type": "markdown",
      "source": [
        "The buggy code below prints out the value of the sport in the list sport. Use try/except so that the code will run properly. If the sport is not in the dictionary, ppl_play, add it in with the value of 1."
      ],
      "metadata": {
        "id": "14nkLzygiW_a"
      }
    },
    {
      "cell_type": "code",
      "source": [
        "sport = [\"hockey\", \"basketball\", \"soccer\", \"tennis\", \"football\", \"baseball\"]\n",
        "\n",
        "ppl_play = {\"hockey\":4, \"soccer\": 10, \"football\": 15, \"tennis\": 8}\n",
        "\n",
        "for x in sport:\n",
        "    try:\n",
        "         print(ppl_play[x])\n",
        "    except:\n",
        "        ppl_play[x] = 1\n"
      ],
      "metadata": {
        "id": "tIvmrtZkjuEx"
      },
      "execution_count": null,
      "outputs": []
    },
    {
      "cell_type": "markdown",
      "source": [
        "Provided is a buggy for loop that tries to accumulate some values out of some dictionaries. Insert a try/except so that the code passes. If the key is not there, initialize it in the dictionary and set the value to zero."
      ],
      "metadata": {
        "id": "xEeDW-0pktPE"
      }
    },
    {
      "cell_type": "code",
      "source": [
        "\n",
        "di = [{\"Puppies\": 17, 'Kittens': 9, \"Birds\": 23, 'Fish': 90, \"Hamsters\": 49}, {\"Puppies\": 23, \"Birds\": 29, \"Fish\": 20, \"Mice\": 20, \"Snakes\": 7}, {\"Fish\": 203, \"Hamsters\": 93, \"Snakes\": 25, \"Kittens\": 89}, {\"Birds\": 20, \"Puppies\": 90, \"Snakes\": 21, \"Fish\": 10, \"Kittens\": 67}]\n",
        "total = 0\n",
        "for diction in di:\n",
        "    try:\n",
        "        total = total + diction['Puppies']\n",
        "\n",
        "    except KeyError:\n",
        "        diction['Puppies'] = 0\n",
        "        total += diction['Puppies']\n",
        "\n",
        "print(\"Total number of puppies:\", total)\n",
        "\n"
      ],
      "metadata": {
        "id": "syfJNHlwktVC"
      },
      "execution_count": null,
      "outputs": []
    },
    {
      "cell_type": "code",
      "source": [
        "from socket import *"
      ],
      "metadata": {
        "id": "Wx7judxMmp9h"
      },
      "execution_count": null,
      "outputs": []
    }
  ]
}